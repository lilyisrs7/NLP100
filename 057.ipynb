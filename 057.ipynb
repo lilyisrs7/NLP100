{
 "cells": [
  {
   "cell_type": "code",
   "execution_count": 1,
   "metadata": {},
   "outputs": [
    {
     "name": "stdout",
     "output_type": "stream",
     "text": [
      "category 0 :\n",
      "big10\t: [2, 39, 6, 10, 8, 87, 63, 95, 7, 54]\n",
      "small10\t: [99, 70, 24, 43, 5, 55, 12, 74, 73, 53]\n",
      "category 1 :\n",
      "big10\t: [96, 58, 60, 36, 19, 68, 44, 49, 16, 99]\n",
      "small10\t: [95, 26, 42, 37, 81, 2, 0, 64, 87, 31]\n",
      "category 2 :\n",
      "big10\t: [12, 73, 55, 53, 70, 42, 26, 74, 43, 28]\n",
      "small10\t: [63, 7, 16, 86, 62, 39, 2, 36, 44, 10]\n",
      "category 3 :\n",
      "big10\t: [96, 24, 97, 9, 69, 65, 57, 93, 32, 99]\n",
      "small10\t: [31, 25, 85, 70, 95, 38, 39, 64, 28, 14]\n"
     ]
    }
   ],
   "source": [
    "from joblib import load\n",
    "\n",
    "model = load('052-model.joblib')\n",
    "for i, weights in enumerate(model.coef_):\n",
    "    sorted_weights = sorted(enumerate(weights), key=lambda x: x[1], reverse=True)\n",
    "    big10 = list(map(lambda x: x[0], sorted_weights[:10]))\n",
    "    small10 = list(map(lambda x: x[0], sorted_weights[-10:]))\n",
    "    print('category', i, ':')\n",
    "    print('big10\\t:', big10)\n",
    "    print('small10\\t:', small10)"
   ]
  },
  {
   "cell_type": "code",
   "execution_count": null,
   "metadata": {},
   "outputs": [],
   "source": []
  }
 ],
 "metadata": {
  "kernelspec": {
   "display_name": "base",
   "language": "python",
   "name": "python3"
  },
  "language_info": {
   "codemirror_mode": {
    "name": "ipython",
    "version": 3
   },
   "file_extension": ".py",
   "mimetype": "text/x-python",
   "name": "python",
   "nbconvert_exporter": "python",
   "pygments_lexer": "ipython3",
   "version": "3.8.3"
  },
  "orig_nbformat": 4
 },
 "nbformat": 4,
 "nbformat_minor": 2
}
