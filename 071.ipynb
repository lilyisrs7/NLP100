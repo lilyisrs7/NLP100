{
  "cells": [
    {
      "cell_type": "code",
      "execution_count": null,
      "metadata": {
        "id": "n2_oC5I8fOWH"
      },
      "outputs": [],
      "source": [
        "from joblib import load\n",
        "\n",
        "X_train = load('X_train.joblib')\n",
        "y_train = load('y_train.joblib')"
      ]
    },
    {
      "cell_type": "code",
      "execution_count": null,
      "metadata": {
        "colab": {
          "base_uri": "https://localhost:8080/"
        },
        "id": "QPuvIxoN9cO6",
        "outputId": "04fa20d4-083f-4f21-fc6a-6e43f81f63d2"
      },
      "outputs": [
        {
          "data": {
            "text/plain": [
              "torch.float64"
            ]
          },
          "execution_count": 3,
          "metadata": {},
          "output_type": "execute_result"
        }
      ],
      "source": [
        "import torch\n",
        "\n",
        "torch.from_numpy(X_train[:4]).dtype"
      ]
    },
    {
      "cell_type": "code",
      "execution_count": null,
      "metadata": {
        "colab": {
          "base_uri": "https://localhost:8080/"
        },
        "id": "clhJ4DTOhLvn",
        "outputId": "8e498de6-32ea-45ae-869e-178ac454ab56"
      },
      "outputs": [
        {
          "name": "stdout",
          "output_type": "stream",
          "text": [
            "tensor([[0.2373, 0.2525, 0.2608, 0.2494],\n",
            "        [0.2413, 0.2491, 0.2550, 0.2545],\n",
            "        [0.2488, 0.2497, 0.2522, 0.2492],\n",
            "        [0.2461, 0.2552, 0.2490, 0.2497]], dtype=torch.float64,\n",
            "       grad_fn=<SoftmaxBackward0>)\n"
          ]
        }
      ],
      "source": [
        "import torch.nn as nn\n",
        "\n",
        "model = nn.Sequential(nn.Linear(in_features=300, out_features=4, dtype=torch.float64), nn.Softmax(dim=1))\n",
        "y_pred = model(torch.from_numpy(X_train[:4]))\n",
        "print(y_pred)"
      ]
    },
    {
      "cell_type": "code",
      "execution_count": null,
      "metadata": {
        "id": "mVqbcMx5ir9k"
      },
      "outputs": [],
      "source": []
    }
  ],
  "metadata": {
    "accelerator": "GPU",
    "colab": {
      "gpuType": "T4",
      "provenance": []
    },
    "kernelspec": {
      "display_name": "Python 3",
      "name": "python3"
    },
    "language_info": {
      "name": "python"
    }
  },
  "nbformat": 4,
  "nbformat_minor": 0
}
