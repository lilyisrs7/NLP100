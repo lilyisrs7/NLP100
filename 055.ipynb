{
 "cells": [
  {
   "cell_type": "code",
   "execution_count": 1,
   "metadata": {},
   "outputs": [
    {
     "name": "stdout",
     "output_type": "stream",
     "text": [
      "train\n",
      "[[3979    1  522    0]\n",
      " [ 649    1  569    0]\n",
      " [ 354    3 3866    0]\n",
      " [ 341    1  386    0]]\n",
      "test\n",
      "[[486   0  77   0]\n",
      " [ 83   1  68   0]\n",
      " [ 45   0 483   0]\n",
      " [ 45   0  46   0]]\n"
     ]
    }
   ],
   "source": [
    "import pandas as pd\n",
    "from sklearn.metrics import confusion_matrix\n",
    "from joblib import load\n",
    "\n",
    "model = load('052-model.joblib')\n",
    "df_train = pd.read_csv('train.feature.txt')\n",
    "X_train = df_train.drop(columns=['category', 'title'])\n",
    "y_train = df_train['category']\n",
    "df_test = pd.read_csv('test.feature.txt')\n",
    "X_test = df_test.drop(columns=['category', 'title'])\n",
    "y_test = df_test['category']\n",
    "print('train', confusion_matrix(y_train, model.predict(X_train)), sep='\\n')\n",
    "print('test', confusion_matrix(y_test, model.predict(X_test)), sep='\\n')"
   ]
  },
  {
   "cell_type": "code",
   "execution_count": null,
   "metadata": {},
   "outputs": [],
   "source": []
  }
 ],
 "metadata": {
  "kernelspec": {
   "display_name": "base",
   "language": "python",
   "name": "python3"
  },
  "language_info": {
   "codemirror_mode": {
    "name": "ipython",
    "version": 3
   },
   "file_extension": ".py",
   "mimetype": "text/x-python",
   "name": "python",
   "nbconvert_exporter": "python",
   "pygments_lexer": "ipython3",
   "version": "3.8.3"
  },
  "orig_nbformat": 4
 },
 "nbformat": 4,
 "nbformat_minor": 2
}
