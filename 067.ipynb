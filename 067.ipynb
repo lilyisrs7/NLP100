{
  "cells": [
    {
      "cell_type": "code",
      "execution_count": null,
      "metadata": {
        "colab": {
          "base_uri": "https://localhost:8080/"
        },
        "id": "jd7rt0zVRkdA",
        "outputId": "f800355e-1cd8-45da-cd32-0b5ac5727c34"
      },
      "outputs": [
        {
          "data": {
            "text/plain": [
              "capital-world                  4524\n",
              "city-in-state                  2467\n",
              "gram6-nationality-adjective    1599\n",
              "gram7-past-tense               1560\n",
              "gram3-comparative              1332\n",
              "gram8-plural                   1332\n",
              "gram4-superlative              1122\n",
              "gram5-present-participle       1056\n",
              "gram1-adjective-to-adverb       992\n",
              "gram9-plural-verbs              870\n",
              "currency                        866\n",
              "gram2-opposite                  812\n",
              "capital-common-countries        506\n",
              "family                          506\n",
              "Name: category, dtype: int64"
            ]
          },
          "execution_count": 17,
          "metadata": {},
          "output_type": "execute_result"
        }
      ],
      "source": [
        "import pandas as pd\n",
        "from gensim.models import KeyedVectors\n",
        "\n",
        "model = KeyedVectors.load_word2vec_format('GoogleNews-vectors-negative300.bin', binary=True)\n",
        "df = pd.read_csv('64-questions-words.csv')\n",
        "df['category'].value_counts()"
      ]
    },
    {
      "cell_type": "code",
      "execution_count": null,
      "metadata": {
        "colab": {
          "base_uri": "https://localhost:8080/"
        },
        "id": "A5vTcL-a2fn3",
        "outputId": "3f3892e8-dea5-4d97-c03f-5a860789f41f"
      },
      "outputs": [
        {
          "name": "stderr",
          "output_type": "stream",
          "text": [
            "/usr/local/lib/python3.10/dist-packages/sklearn/cluster/_kmeans.py:870: FutureWarning: The default value of `n_init` will change from 10 to 'auto' in 1.4. Set the value of `n_init` explicitly to suppress the warning\n",
            "  warnings.warn(\n"
          ]
        },
        {
          "name": "stdout",
          "output_type": "stream",
          "text": [
            "['USA', 'Spain', 'Europe', 'Denmark', 'Sweden', 'Switzerland', 'Netherlands', 'Germany', 'Ireland', 'Italy', 'Belgium', 'Canada', 'Greenland', 'Norway', 'Finland', 'Liechtenstein', 'France', 'England', 'Portugal', 'Austria', 'Iceland']\n",
            "['Argentina', 'Colombia', 'Mexico', 'Ecuador', 'Uruguay', 'Peru', 'Venezuela', 'Honduras', 'Nicaragua', 'Belize', 'Chile', 'Samoa', 'Bahamas', 'Guyana', 'Brazil', 'Suriname', 'Cuba', 'Dominica', 'Jamaica']\n",
            "['Zambia', 'Mauritania', 'Tunisia', 'Niger', 'Nigeria', 'Zimbabwe', 'Liberia', 'Uganda', 'Mali', 'Sudan', 'Senegal', 'Namibia', 'Eritrea', 'Gambia', 'Malawi', 'Algeria', 'Gabon', 'Burundi', 'Angola', 'Somalia', 'Botswana', 'Mozambique', 'Rwanda', 'Kenya', 'Ghana', 'Madagascar', 'Guinea']\n",
            "['Taiwan', 'Korea', 'Indonesia', 'Iran', 'Libya', 'Israel', 'Tajikistan', 'Bangladesh', 'Bahrain', 'Iraq', 'Laos', 'India', 'Jordan', 'Kyrgyzstan', 'Cambodia', 'Fiji', 'China', 'Turkmenistan', 'Lebanon', 'Uzbekistan', 'Malaysia', 'Bhutan', 'Morocco', 'Qatar', 'Syria', 'Vietnam', 'Japan', 'Afghanistan', 'Tuvalu', 'Pakistan', 'Australia', 'Nepal', 'Oman', 'Egypt', 'Thailand', 'Philippines']\n",
            "['Montenegro', 'Lithuania', 'Bulgaria', 'Cyprus', 'Hungary', 'Russia', 'Latvia', 'Malta', 'Ukraine', 'Kazakhstan', 'Serbia', 'Romania', 'Greece', 'Armenia', 'Azerbaijan', 'Belarus', 'Estonia', 'Moldova', 'Turkey', 'Slovakia', 'Slovenia', 'Georgia', 'Croatia', 'Poland', 'Macedonia', 'Albania']\n"
          ]
        }
      ],
      "source": [
        "from sklearn.cluster import KMeans\n",
        "\n",
        "df_24 = df[df['category'].isin(['capital-common-countries', 'capital-world'])].iloc[:, [2,4]]\n",
        "df_13 = df[df['category'].isin(['currency', 'gram6-nationality-adjective'])].iloc[:, [1,3]]\n",
        "countries = set(df_24['2'].tolist() + df_24['4'].tolist() + df_13['1'].tolist() + df_13['3'].tolist())\n",
        "country_vecs = dict([(country, model[country]) for country in countries])\n",
        "labels = KMeans(n_clusters=5, random_state=0).fit_predict(list(country_vecs.values()))\n",
        "results = [[] for _ in range(5)]\n",
        "for c, l in zip(country_vecs.keys(), labels):\n",
        "  results[l].append(c)\n",
        "for r in results:\n",
        "  print(r)"
      ]
    },
    {
      "cell_type": "code",
      "execution_count": null,
      "metadata": {
        "id": "_ugy-o52lXfT"
      },
      "outputs": [],
      "source": [
        "from pickle import dump\n",
        "import os\n",
        "\n",
        "writefile = 'country_vecs.pkl'\n",
        "if os.path.isfile(writefile):\n",
        "  mode = 'wb'\n",
        "else:\n",
        "  mode = 'xb'\n",
        "with open(writefile, mode=mode) as f:\n",
        "  dump(country_vecs, f)"
      ]
    },
    {
      "cell_type": "code",
      "execution_count": null,
      "metadata": {
        "id": "fx46TlV5p9EK"
      },
      "outputs": [],
      "source": []
    }
  ],
  "metadata": {
    "colab": {
      "provenance": []
    },
    "kernelspec": {
      "display_name": "Python 3",
      "name": "python3"
    },
    "language_info": {
      "name": "python"
    }
  },
  "nbformat": 4,
  "nbformat_minor": 0
}
