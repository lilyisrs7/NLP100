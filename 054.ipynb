{
 "cells": [
  {
   "cell_type": "code",
   "execution_count": 1,
   "metadata": {},
   "outputs": [
    {
     "name": "stdout",
     "output_type": "stream",
     "text": [
      "train: 0.7351949025487257\n",
      "test: 0.7271364317841079\n"
     ]
    }
   ],
   "source": [
    "import pandas as pd\n",
    "from joblib import load\n",
    "\n",
    "model = load('052-model.joblib')\n",
    "df_train = pd.read_csv('train.feature.txt')\n",
    "X_train = df_train.drop(columns=['category', 'title'])\n",
    "y_train = df_train['category']\n",
    "df_test = pd.read_csv('test.feature.txt')\n",
    "X_test = df_test.drop(columns=['category', 'title'])\n",
    "y_test = df_test['category']\n",
    "print('train:', model.score(X_train, y_train))\n",
    "print('test:', model.score(X_test, y_test))"
   ]
  },
  {
   "cell_type": "code",
   "execution_count": null,
   "metadata": {},
   "outputs": [],
   "source": []
  }
 ],
 "metadata": {
  "kernelspec": {
   "display_name": "base",
   "language": "python",
   "name": "python3"
  },
  "language_info": {
   "codemirror_mode": {
    "name": "ipython",
    "version": 3
   },
   "file_extension": ".py",
   "mimetype": "text/x-python",
   "name": "python",
   "nbconvert_exporter": "python",
   "pygments_lexer": "ipython3",
   "version": "3.8.3"
  },
  "orig_nbformat": 4
 },
 "nbformat": 4,
 "nbformat_minor": 2
}
