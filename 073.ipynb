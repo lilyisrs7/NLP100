{
  "cells": [
    {
      "cell_type": "code",
      "execution_count": null,
      "metadata": {
        "id": "_QtSPiFfZjTl"
      },
      "outputs": [],
      "source": [
        "from joblib import load\n",
        "\n",
        "X_train = load('X_train.joblib')\n",
        "y_train = load('y_train.joblib')"
      ]
    },
    {
      "cell_type": "code",
      "execution_count": null,
      "metadata": {
        "id": "wgPzuE-Ca9bs"
      },
      "outputs": [],
      "source": [
        "import numpy as np\n",
        "import torch\n",
        "import torch.nn as nn\n",
        "import torch.optim as optim\n",
        "\n",
        "model = nn.Linear(in_features=300, out_features=4, dtype=torch.float64)\n",
        "X_train = torch.from_numpy(X_train)\n",
        "y_label = torch.from_numpy(np.array(y_train))\n",
        "epochs = 100\n",
        "lr = 0.2\n",
        "momentum = 0.9\n",
        "criterion = nn.CrossEntropyLoss()\n",
        "optimizer = optim.SGD(model.parameters(), lr=lr, momentum=momentum)\n",
        "for epoch in range(epochs):\n",
        "  model.train()\n",
        "  optimizer.zero_grad()\n",
        "  y_pred = model(X_train)\n",
        "  loss = criterion(y_pred, y_label)\n",
        "  loss.backward()\n",
        "  optimizer.step()"
      ]
    },
    {
      "cell_type": "code",
      "execution_count": null,
      "metadata": {
        "colab": {
          "base_uri": "https://localhost:8080/"
        },
        "id": "KYxcM13EGObr",
        "outputId": "29a2b3f9-6dac-42c2-8d6c-0dccf147f23d"
      },
      "outputs": [
        {
          "data": {
            "text/plain": [
              "Parameter containing:\n",
              "tensor([[-2.4096e-01, -5.3504e-02, -6.1723e-02,  ...,  4.3803e-01,\n",
              "          1.8591e-01, -4.3672e-01],\n",
              "        [ 1.4064e-01, -9.5512e-03,  1.6313e-01,  ..., -5.1160e-02,\n",
              "         -2.3765e-01, -1.4689e-01],\n",
              "        [ 3.0466e-01,  3.9670e-02, -4.4419e-01,  ..., -3.7174e-01,\n",
              "         -1.3442e-01,  3.3901e-01],\n",
              "        [-7.8752e-02,  1.1238e-04,  2.9608e-01,  ...,  5.2153e-02,\n",
              "          1.5950e-01,  2.3861e-01]], dtype=torch.float64, requires_grad=True)"
            ]
          },
          "execution_count": 13,
          "metadata": {},
          "output_type": "execute_result"
        }
      ],
      "source": [
        "model.weight"
      ]
    },
    {
      "cell_type": "code",
      "execution_count": null,
      "metadata": {
        "id": "LySJqBOIGt3a"
      },
      "outputs": [],
      "source": [
        "torch.save(model.state_dict(), '73-model_param.ckpt')"
      ]
    },
    {
      "cell_type": "code",
      "execution_count": null,
      "metadata": {
        "id": "mVqbcMx5ir9k"
      },
      "outputs": [],
      "source": []
    }
  ],
  "metadata": {
    "accelerator": "GPU",
    "colab": {
      "gpuType": "T4",
      "provenance": []
    },
    "kernelspec": {
      "display_name": "Python 3",
      "name": "python3"
    },
    "language_info": {
      "name": "python"
    }
  },
  "nbformat": 4,
  "nbformat_minor": 0
}
