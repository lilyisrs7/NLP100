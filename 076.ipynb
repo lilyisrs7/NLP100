{
  "cells": [
    {
      "cell_type": "code",
      "execution_count": null,
      "metadata": {
        "id": "tuAKD4CzvCH4"
      },
      "outputs": [],
      "source": [
        "from joblib import load\n",
        "\n",
        "X_train = load('X_train.joblib')\n",
        "y_train = load('y_train.joblib')"
      ]
    },
    {
      "cell_type": "code",
      "execution_count": null,
      "metadata": {
        "id": "8S2hshI9vIuc"
      },
      "outputs": [],
      "source": [
        "import numpy as np\n",
        "import torch\n",
        "import torch.nn as nn\n",
        "import torch.optim as optim\n",
        "\n",
        "model = nn.Linear(in_features=300, out_features=4, dtype=torch.float64)\n",
        "X_train = torch.from_numpy(X_train)\n",
        "y_train = torch.from_numpy(np.array(y_train))\n",
        "\n",
        "epochs = 100\n",
        "lr = 0.2\n",
        "momentum = 0.9\n",
        "criterion = nn.CrossEntropyLoss()\n",
        "optimizer = optim.SGD(model.parameters(), lr=lr, momentum=momentum)\n",
        "\n",
        "for epoch in range(epochs):\n",
        "  model.train()\n",
        "  optimizer.zero_grad()\n",
        "  y_pred = model(X_train)\n",
        "  loss = criterion(y_pred, y_train)\n",
        "  loss.backward()\n",
        "  optimizer.step()\n",
        "  torch.save({'model_state_dict': model.state_dict(), 'optimizer_state_dict': optimizer.state_dict()}, '76-model_param_epoch'+str(epoch+1)+'.ckpt')"
      ]
    },
    {
      "cell_type": "code",
      "execution_count": null,
      "metadata": {
        "id": "mVqbcMx5ir9k"
      },
      "outputs": [],
      "source": []
    }
  ],
  "metadata": {
    "accelerator": "GPU",
    "colab": {
      "gpuType": "T4",
      "provenance": []
    },
    "kernelspec": {
      "display_name": "Python 3",
      "name": "python3"
    },
    "language_info": {
      "name": "python"
    }
  },
  "nbformat": 4,
  "nbformat_minor": 0
}
