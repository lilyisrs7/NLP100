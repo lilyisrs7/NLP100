{
  "cells": [
    {
      "cell_type": "code",
      "execution_count": null,
      "metadata": {
        "colab": {
          "base_uri": "https://localhost:8080/"
        },
        "id": "oZTnHiqmisVa",
        "outputId": "0dea19f8-26b4-4283-fb71-f89999e3c7ce"
      },
      "outputs": [
        {
          "data": {
            "text/plain": [
              "[('Unites_States', 0.7877248525619507),\n",
              " ('Untied_States', 0.7541370987892151),\n",
              " ('United_Sates', 0.7400724291801453),\n",
              " ('U.S.', 0.7310774326324463),\n",
              " ('theUnited_States', 0.6404393911361694),\n",
              " ('America', 0.6178410053253174),\n",
              " ('UnitedStates', 0.6167312264442444),\n",
              " ('Europe', 0.6132988929748535),\n",
              " ('countries', 0.6044804453849792),\n",
              " ('Canada', 0.601906955242157)]"
            ]
          },
          "execution_count": 4,
          "metadata": {},
          "output_type": "execute_result"
        }
      ],
      "source": [
        "from gensim.models import KeyedVectors\n",
        "\n",
        "model = KeyedVectors.load_word2vec_format('GoogleNews-vectors-negative300.bin', binary=True)\n",
        "model.most_similar('United_States')"
      ]
    },
    {
      "cell_type": "code",
      "execution_count": null,
      "metadata": {
        "id": "fx46TlV5p9EK"
      },
      "outputs": [],
      "source": []
    }
  ],
  "metadata": {
    "colab": {
      "provenance": []
    },
    "kernelspec": {
      "display_name": "Python 3",
      "name": "python3"
    },
    "language_info": {
      "name": "python"
    }
  },
  "nbformat": 4,
  "nbformat_minor": 0
}
