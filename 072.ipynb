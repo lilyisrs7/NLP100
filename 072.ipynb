{
  "cells": [
    {
      "cell_type": "code",
      "execution_count": null,
      "metadata": {
        "id": "FQoInWgM7k2r"
      },
      "outputs": [],
      "source": [
        "from joblib import load\n",
        "\n",
        "X_train = load('X_train.joblib')\n",
        "y_train = load('y_train.joblib')"
      ]
    },
    {
      "cell_type": "code",
      "execution_count": null,
      "metadata": {
        "colab": {
          "base_uri": "https://localhost:8080/"
        },
        "id": "CxJEdAHbEk-5",
        "outputId": "d4452571-2ee9-4e1b-c6cc-1b2607c7f5a7"
      },
      "outputs": [
        {
          "name": "stdout",
          "output_type": "stream",
          "text": [
            "loss: tensor(1.3262, dtype=torch.float64, grad_fn=<NllLossBackward0>)\n",
            "grad: tensor([-0.4729,  0.2530, -0.0164,  0.2363], dtype=torch.float64)\n"
          ]
        }
      ],
      "source": [
        "import numpy as np\n",
        "import torch\n",
        "import torch.nn as nn\n",
        "\n",
        "model = nn.Linear(in_features=300, out_features=4, dtype=torch.float64)\n",
        "y_pred = model(torch.from_numpy(X_train[:4]))\n",
        "criterion = nn.CrossEntropyLoss()\n",
        "loss = criterion(y_pred, torch.from_numpy(np.array(y_train[:4])))\n",
        "print('loss:', loss)\n",
        "model.zero_grad()\n",
        "loss.backward()\n",
        "print('grad:', model.bias.grad)"
      ]
    },
    {
      "cell_type": "code",
      "execution_count": null,
      "metadata": {
        "id": "mVqbcMx5ir9k"
      },
      "outputs": [],
      "source": []
    }
  ],
  "metadata": {
    "accelerator": "GPU",
    "colab": {
      "gpuType": "T4",
      "provenance": []
    },
    "kernelspec": {
      "display_name": "Python 3",
      "name": "python3"
    },
    "language_info": {
      "name": "python"
    }
  },
  "nbformat": 4,
  "nbformat_minor": 0
}
