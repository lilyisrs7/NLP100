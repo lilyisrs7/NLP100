{
 "cells": [
  {
   "cell_type": "code",
   "execution_count": 1,
   "metadata": {},
   "outputs": [
    {
     "data": {
      "text/html": [
       "<div>\n",
       "<style scoped>\n",
       "    .dataframe tbody tr th:only-of-type {\n",
       "        vertical-align: middle;\n",
       "    }\n",
       "\n",
       "    .dataframe tbody tr th {\n",
       "        vertical-align: top;\n",
       "    }\n",
       "\n",
       "    .dataframe thead th {\n",
       "        text-align: right;\n",
       "    }\n",
       "</style>\n",
       "<table border=\"1\" class=\"dataframe\">\n",
       "  <thead>\n",
       "    <tr style=\"text-align: right;\">\n",
       "      <th></th>\n",
       "      <th>publisher</th>\n",
       "      <th>category</th>\n",
       "      <th>title</th>\n",
       "    </tr>\n",
       "  </thead>\n",
       "  <tbody>\n",
       "    <tr>\n",
       "      <th>0</th>\n",
       "      <td>Los Angeles Times</td>\n",
       "      <td>b</td>\n",
       "      <td>Fed official says weak data caused by weather,...</td>\n",
       "    </tr>\n",
       "    <tr>\n",
       "      <th>1</th>\n",
       "      <td>Livemint</td>\n",
       "      <td>b</td>\n",
       "      <td>Fed's Charles Plosser sees high bar for change...</td>\n",
       "    </tr>\n",
       "    <tr>\n",
       "      <th>2</th>\n",
       "      <td>IFA Magazine</td>\n",
       "      <td>b</td>\n",
       "      <td>US open: Stocks fall after Fed official hints ...</td>\n",
       "    </tr>\n",
       "    <tr>\n",
       "      <th>3</th>\n",
       "      <td>IFA Magazine</td>\n",
       "      <td>b</td>\n",
       "      <td>Fed risks falling 'behind the curve', Charles ...</td>\n",
       "    </tr>\n",
       "    <tr>\n",
       "      <th>4</th>\n",
       "      <td>Moneynews</td>\n",
       "      <td>b</td>\n",
       "      <td>Fed's Plosser: Nasty Weather Has Curbed Job Gr...</td>\n",
       "    </tr>\n",
       "  </tbody>\n",
       "</table>\n",
       "</div>"
      ],
      "text/plain": [
       "           publisher category  \\\n",
       "0  Los Angeles Times        b   \n",
       "1           Livemint        b   \n",
       "2       IFA Magazine        b   \n",
       "3       IFA Magazine        b   \n",
       "4          Moneynews        b   \n",
       "\n",
       "                                               title  \n",
       "0  Fed official says weak data caused by weather,...  \n",
       "1  Fed's Charles Plosser sees high bar for change...  \n",
       "2  US open: Stocks fall after Fed official hints ...  \n",
       "3  Fed risks falling 'behind the curve', Charles ...  \n",
       "4  Fed's Plosser: Nasty Weather Has Curbed Job Gr...  "
      ]
     },
     "execution_count": 1,
     "metadata": {},
     "output_type": "execute_result"
    }
   ],
   "source": [
    "import pandas as pd\n",
    "from sklearn.model_selection import train_test_split\n",
    "\n",
    "df = pd.read_csv('news+aggregator/newsCorpora.csv',\n",
    "                 names=['id', 'title', 'url', 'publisher', 'category', 'story', 'hostname', 'timestamp'],\n",
    "                 sep='\\t')\n",
    "df_use = df[['publisher', 'category', 'title']]\n",
    "df_use.head()"
   ]
  },
  {
   "cell_type": "code",
   "execution_count": 2,
   "metadata": {},
   "outputs": [
    {
     "name": "stdout",
     "output_type": "stream",
     "text": [
      "10672 1334 1334\n"
     ]
    },
    {
     "data": {
      "text/html": [
       "<div>\n",
       "<style scoped>\n",
       "    .dataframe tbody tr th:only-of-type {\n",
       "        vertical-align: middle;\n",
       "    }\n",
       "\n",
       "    .dataframe tbody tr th {\n",
       "        vertical-align: top;\n",
       "    }\n",
       "\n",
       "    .dataframe thead th {\n",
       "        text-align: right;\n",
       "    }\n",
       "</style>\n",
       "<table border=\"1\" class=\"dataframe\">\n",
       "  <thead>\n",
       "    <tr style=\"text-align: right;\">\n",
       "      <th></th>\n",
       "      <th>category</th>\n",
       "      <th>title</th>\n",
       "    </tr>\n",
       "  </thead>\n",
       "  <tbody>\n",
       "    <tr>\n",
       "      <th>9266</th>\n",
       "      <td>b</td>\n",
       "      <td>Bouygues confirms improved offer for Vivendi's...</td>\n",
       "    </tr>\n",
       "    <tr>\n",
       "      <th>63781</th>\n",
       "      <td>b</td>\n",
       "      <td>US stocks end off highs, Dow up for week; gold...</td>\n",
       "    </tr>\n",
       "    <tr>\n",
       "      <th>198433</th>\n",
       "      <td>e</td>\n",
       "      <td>'Chef' Director: The Creative Driving Force Be...</td>\n",
       "    </tr>\n",
       "    <tr>\n",
       "      <th>356310</th>\n",
       "      <td>b</td>\n",
       "      <td>South African labor minister to meet with stri...</td>\n",
       "    </tr>\n",
       "    <tr>\n",
       "      <th>403939</th>\n",
       "      <td>e</td>\n",
       "      <td>Kaley Cuoco and her Big Bang Theory co-stars h...</td>\n",
       "    </tr>\n",
       "  </tbody>\n",
       "</table>\n",
       "</div>"
      ],
      "text/plain": [
       "       category                                              title\n",
       "9266          b  Bouygues confirms improved offer for Vivendi's...\n",
       "63781         b  US stocks end off highs, Dow up for week; gold...\n",
       "198433        e  'Chef' Director: The Creative Driving Force Be...\n",
       "356310        b  South African labor minister to meet with stri...\n",
       "403939        e  Kaley Cuoco and her Big Bang Theory co-stars h..."
      ]
     },
     "execution_count": 2,
     "metadata": {},
     "output_type": "execute_result"
    }
   ],
   "source": [
    "publisher_set = set(['Reuters', 'Huffington Post', 'Businessweek', 'Contactmusic.com', 'Daily Mail'])\n",
    "df_use = df_use[df_use['publisher'].isin(publisher_set)][['category', 'title']]\n",
    "df_train, df_validtest = train_test_split(df_use, test_size=0.2, random_state=0, stratify=df_use['category'])\n",
    "df_valid, df_test = train_test_split(df_validtest, test_size=0.5, random_state=0, stratify=df_validtest['category'])\n",
    "print(len(df_train), len(df_valid), len(df_test))\n",
    "df_train.head()"
   ]
  },
  {
   "cell_type": "code",
   "execution_count": 3,
   "metadata": {},
   "outputs": [],
   "source": [
    "df_train.to_csv('train.txt', sep='\\t', index=False)\n",
    "df_valid.to_csv('valid.txt', sep='\\t', index=False)\n",
    "df_test.to_csv('test.txt', sep='\\t', index=False)"
   ]
  },
  {
   "cell_type": "code",
   "execution_count": null,
   "metadata": {},
   "outputs": [],
   "source": []
  }
 ],
 "metadata": {
  "kernelspec": {
   "display_name": "base",
   "language": "python",
   "name": "python3"
  },
  "language_info": {
   "codemirror_mode": {
    "name": "ipython",
    "version": 3
   },
   "file_extension": ".py",
   "mimetype": "text/x-python",
   "name": "python",
   "nbconvert_exporter": "python",
   "pygments_lexer": "ipython3",
   "version": "3.8.3"
  },
  "orig_nbformat": 4
 },
 "nbformat": 4,
 "nbformat_minor": 2
}
