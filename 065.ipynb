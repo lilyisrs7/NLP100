{
  "cells": [
    {
      "cell_type": "code",
      "execution_count": null,
      "metadata": {
        "colab": {
          "base_uri": "https://localhost:8080/"
        },
        "id": "iHO7bkc11gYG",
        "outputId": "76f05397-7a77-492b-e312-8206a0ba0c6b"
      },
      "outputs": [
        {
          "name": "stdout",
          "output_type": "stream",
          "text": [
            "semantic: 0.7308602999210734\n",
            "syntactic: 0.7400468384074942\n"
          ]
        }
      ],
      "source": [
        "import pandas as pd\n",
        "\n",
        "df = pd.read_csv('64-questions-words.csv')\n",
        "df_semantic = df[~df['category'].str.startswith('gram')]\n",
        "df_syntactic = df[df['category'].str.startswith('gram')]\n",
        "print('semantic:', sum(df_semantic['4']==df_semantic['word'])/len(df_semantic))\n",
        "print('syntactic:', sum(df_syntactic['4']==df_syntactic['word'])/len(df_syntactic))"
      ]
    },
    {
      "cell_type": "code",
      "execution_count": null,
      "metadata": {
        "id": "fx46TlV5p9EK"
      },
      "outputs": [],
      "source": []
    }
  ],
  "metadata": {
    "colab": {
      "provenance": []
    },
    "kernelspec": {
      "display_name": "Python 3",
      "name": "python3"
    },
    "language_info": {
      "name": "python"
    }
  },
  "nbformat": 4,
  "nbformat_minor": 0
}
