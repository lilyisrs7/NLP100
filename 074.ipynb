{
  "cells": [
    {
      "cell_type": "code",
      "execution_count": null,
      "metadata": {
        "id": "4uw3KAyzFDEh"
      },
      "outputs": [],
      "source": [
        "from joblib import load\n",
        "\n",
        "X_train = load('X_train.joblib')\n",
        "y_train = load('y_train.joblib')\n",
        "X_test = load('X_test.joblib')\n",
        "y_test = load('y_test.joblib')"
      ]
    },
    {
      "cell_type": "code",
      "execution_count": null,
      "metadata": {
        "colab": {
          "base_uri": "https://localhost:8080/"
        },
        "id": "b_GUNRffG06z",
        "outputId": "c594f189-b941-4957-97fa-4c26f603af92"
      },
      "outputs": [
        {
          "name": "stdout",
          "output_type": "stream",
          "text": [
            "train accuracy: 0.8241191904047976\n",
            "test accuracy: 0.815592203898051\n"
          ]
        }
      ],
      "source": [
        "import numpy as np\n",
        "import torch\n",
        "import torch.nn as nn\n",
        "\n",
        "model = nn.Linear(in_features=300, out_features=4, dtype=torch.float64)\n",
        "model.load_state_dict(torch.load('73-model_param.ckpt'))\n",
        "X_train = torch.from_numpy(X_train)\n",
        "y_train = torch.from_numpy(np.array(y_train))\n",
        "_, y_train_pred = torch.max(model(X_train), 1)\n",
        "print('train accuracy:', sum(y_train == y_train_pred).item() / len(y_train))\n",
        "X_test = torch.from_numpy(X_test)\n",
        "y_test = torch.from_numpy(np.array(y_test))\n",
        "_, y_test_pred = torch.max(model(X_test), 1)\n",
        "print('test accuracy:', sum(y_test == y_test_pred).item() / len(y_test))"
      ]
    },
    {
      "cell_type": "code",
      "execution_count": null,
      "metadata": {
        "id": "mVqbcMx5ir9k"
      },
      "outputs": [],
      "source": []
    }
  ],
  "metadata": {
    "accelerator": "GPU",
    "colab": {
      "gpuType": "T4",
      "provenance": []
    },
    "kernelspec": {
      "display_name": "Python 3",
      "name": "python3"
    },
    "language_info": {
      "name": "python"
    }
  },
  "nbformat": 4,
  "nbformat_minor": 0
}
