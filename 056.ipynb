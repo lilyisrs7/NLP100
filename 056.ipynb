{
 "cells": [
  {
   "cell_type": "code",
   "execution_count": 1,
   "metadata": {},
   "outputs": [
    {
     "name": "stdout",
     "output_type": "stream",
     "text": [
      "precision: [0.73748103 1.         0.71661721 0.        ]\n",
      "precision micro: 0.7271364317841079\n",
      "precision macro: 0.6135245606372393\n",
      "recall: [0.86323268 0.00657895 0.91477273 0.        ]\n",
      "recall micro: 0.7271364317841079\n",
      "recall macro: 0.4461460891753848\n",
      "f1: [0.79541735 0.0130719  0.80366057 0.        ]\n",
      "f1 micro: 0.7271364317841079\n",
      "f1 macro: 0.40303745243936706\n"
     ]
    },
    {
     "name": "stderr",
     "output_type": "stream",
     "text": [
      "/Users/kogayurie/opt/anaconda3/lib/python3.8/site-packages/sklearn/metrics/_classification.py:1318: UndefinedMetricWarning: Precision is ill-defined and being set to 0.0 in labels with no predicted samples. Use `zero_division` parameter to control this behavior.\n",
      "  _warn_prf(average, modifier, msg_start, len(result))\n",
      "/Users/kogayurie/opt/anaconda3/lib/python3.8/site-packages/sklearn/metrics/_classification.py:1318: UndefinedMetricWarning: Precision is ill-defined and being set to 0.0 in labels with no predicted samples. Use `zero_division` parameter to control this behavior.\n",
      "  _warn_prf(average, modifier, msg_start, len(result))\n"
     ]
    }
   ],
   "source": [
    "import pandas as pd\n",
    "from sklearn.metrics import precision_score, recall_score, f1_score\n",
    "from joblib import load\n",
    "\n",
    "model = load('052-model.joblib')\n",
    "df_test = pd.read_csv('test.feature.txt')\n",
    "X_test = df_test.drop(columns=['category', 'title'])\n",
    "y_test = df_test['category']\n",
    "print('precision:', precision_score(y_test, model.predict(X_test), average=None))\n",
    "print('precision micro:', precision_score(y_test, model.predict(X_test), average='micro'))\n",
    "print('precision macro:', precision_score(y_test, model.predict(X_test), average='macro'))\n",
    "print('recall:', recall_score(y_test, model.predict(X_test), average=None))\n",
    "print('recall micro:', recall_score(y_test, model.predict(X_test), average='micro'))\n",
    "print('recall macro:', recall_score(y_test, model.predict(X_test), average='macro'))\n",
    "print('f1:', f1_score(y_test, model.predict(X_test), average=None))\n",
    "print('f1 micro:', f1_score(y_test, model.predict(X_test), average='micro'))\n",
    "print('f1 macro:', f1_score(y_test, model.predict(X_test), average='macro'))"
   ]
  },
  {
   "cell_type": "code",
   "execution_count": null,
   "metadata": {},
   "outputs": [],
   "source": []
  }
 ],
 "metadata": {
  "kernelspec": {
   "display_name": "base",
   "language": "python",
   "name": "python3"
  },
  "language_info": {
   "codemirror_mode": {
    "name": "ipython",
    "version": 3
   },
   "file_extension": ".py",
   "mimetype": "text/x-python",
   "name": "python",
   "nbconvert_exporter": "python",
   "pygments_lexer": "ipython3",
   "version": "3.8.3"
  },
  "orig_nbformat": 4
 },
 "nbformat": 4,
 "nbformat_minor": 2
}
