{
 "cells": [
  {
   "cell_type": "code",
   "execution_count": 1,
   "metadata": {},
   "outputs": [],
   "source": [
    "import pandas as pd\n",
    "from collections import Counter\n",
    "from itertools import chain\n",
    "from json import dump\n",
    "import os"
   ]
  },
  {
   "cell_type": "code",
   "execution_count": 2,
   "metadata": {},
   "outputs": [
    {
     "data": {
      "text/plain": [
       "23510"
      ]
     },
     "execution_count": 2,
     "metadata": {},
     "output_type": "execute_result"
    }
   ],
   "source": [
    "data = pd.read_csv('train.feature.txt')['title'].tolist()\n",
    "data = chain.from_iterable([title.split() for title in data])\n",
    "word_cnt = Counter(data)\n",
    "word_cnt = sorted(word_cnt.items(), key=lambda x: x[1], reverse=True)\n",
    "word_id = {}\n",
    "for i, [word, cnt] in enumerate(word_cnt):\n",
    "    if cnt >= 2:\n",
    "        word_id[word] = i+1\n",
    "    else:\n",
    "        word_id[word] = 0\n",
    "len(word_id)"
   ]
  },
  {
   "cell_type": "code",
   "execution_count": 3,
   "metadata": {},
   "outputs": [],
   "source": [
    "def seq_to_idseq(seq):\n",
    "    return [word_id[word] for word in seq]"
   ]
  },
  {
   "cell_type": "code",
   "execution_count": 4,
   "metadata": {},
   "outputs": [
    {
     "data": {
      "text/plain": [
       "10260"
      ]
     },
     "execution_count": 4,
     "metadata": {},
     "output_type": "execute_result"
    }
   ],
   "source": [
    "max(word_id.values())"
   ]
  },
  {
   "cell_type": "code",
   "execution_count": 5,
   "metadata": {},
   "outputs": [],
   "source": [
    "filename = 'word_id_dict.json'\n",
    "if os.path.isfile(filename):\n",
    "    mode = 'w'\n",
    "else:\n",
    "    mode = 'x'\n",
    "\n",
    "with open(filename, mode=mode) as f:\n",
    "    dump(word_id, f, ensure_ascii=False)"
   ]
  },
  {
   "cell_type": "code",
   "execution_count": null,
   "metadata": {},
   "outputs": [],
   "source": []
  }
 ],
 "metadata": {
  "kernelspec": {
   "display_name": "base",
   "language": "python",
   "name": "python3"
  },
  "language_info": {
   "codemirror_mode": {
    "name": "ipython",
    "version": 3
   },
   "file_extension": ".py",
   "mimetype": "text/x-python",
   "name": "python",
   "nbconvert_exporter": "python",
   "pygments_lexer": "ipython3",
   "version": "3.8.3"
  }
 },
 "nbformat": 4,
 "nbformat_minor": 2
}
